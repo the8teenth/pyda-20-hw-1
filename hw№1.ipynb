{
 "cells": [
  {
   "cell_type": "markdown",
   "id": "f227cda8",
   "metadata": {},
   "source": [
    "# Задание 1"
   ]
  },
  {
   "cell_type": "code",
   "execution_count": null,
   "id": "680fdf17",
   "metadata": {},
   "outputs": [],
   "source": [
    "phrase_1 = 'Насколько проще было бы писать программы, если бы не заказчики'\n",
    "phrase_2 = '640Кб должно хватить для любых задач. Билл Гейтс (по легенде)'\n",
    "if phrase_1 > phrase_2:\n",
    "    print('Фраза 1 длиннее фразы 2')\n",
    "elif phrase_1 < phrase_2:\n",
    "    print('Фраза 2 длиннее фразы 1')\n",
    "elif phrase_1 == phrase_2:\n",
    "    print('Фразы равной длины')"
   ]
  },
  {
   "cell_type": "code",
   "execution_count": null,
   "id": "d5ee4186",
   "metadata": {},
   "outputs": [],
   "source": [
    "phrase_1 = '640Кб должно хватить для любых задач. Билл Гейтс (по легенде)'\n",
    "phrase_2 = 'Насколько проще было бы писать программы, если бы не заказчики'\n",
    "if phrase_1 > phrase_2:\n",
    "    print('Фраза 1 длиннее фразы 2')\n",
    "elif phrase_1 < phrase_2:\n",
    "    print('Фраза 2 длиннее фразы 1')\n",
    "elif phrase_1 == phrase_2:\n",
    "    print('Фразы равной длины')"
   ]
  },
  {
   "cell_type": "code",
   "execution_count": null,
   "id": "a839eefa",
   "metadata": {},
   "outputs": [],
   "source": [
    "phrase_1 = 'Насколько проще было бы писать программы, если бы не заказчики'\n",
    "phrase_2 = 'Насколько проще было бы писать программы, если бы не заказчики'\n",
    "if phrase_1 > phrase_2:\n",
    "    print('Фраза 1 длиннее фразы 2')\n",
    "elif phrase_1 < phrase_2:\n",
    "    print('Фраза 2 длиннее фразы 1')\n",
    "elif phrase_1 == phrase_2:\n",
    "    print('Фразы равной длины')"
   ]
  },
  {
   "cell_type": "markdown",
   "id": "9dd6fb34",
   "metadata": {},
   "source": [
    "# Задание 2"
   ]
  },
  {
   "cell_type": "code",
   "execution_count": null,
   "id": "b68ac588",
   "metadata": {},
   "outputs": [],
   "source": [
    "year = int(input())\n",
    "if year % 4 == 0 and year % 100 != 0 or year % 100 == 0:\n",
    "    print('Високосный год')\n",
    "else:\n",
    "    print('Обычный год')"
   ]
  },
  {
   "cell_type": "markdown",
   "id": "c2b266b4",
   "metadata": {},
   "source": [
    "# Задание 3"
   ]
  },
  {
   "cell_type": "code",
   "execution_count": null,
   "id": "3e31f22e",
   "metadata": {},
   "outputs": [],
   "source": [
    "date = int(input(\"Введите день рождения:\"))\n",
    "month = int(input(\"Введите месяц рождения:\"))\n",
    "if (date >= 21 and month == 3) or (date <= 20 and month == 4):\n",
    "    print('Ваш знак зодиака: Овен')\n",
    "elif (date >= 21 and month == 4) or (date <= 20 and month == 5):\n",
    "    print('Ваш знак зодиака: Телец')\n",
    "elif (date >= 21 and month == 5) or (date <= 21 and month == 6):\n",
    "    print('Ваш знак зодиака: Близнецы')\n",
    "elif (date >= 22 and month == 6) or (date <= 22 and month == 7):\n",
    "    print('Ваш знак зодиака: Рак')\n",
    "elif (date >= 23 and month == 7) or (date <= 22 and month == 8):\n",
    "    print('Ваш знак зодиака: Лев')\n",
    "elif (date >= 23 and month == 8) or (date <= 22 and month == 9):\n",
    "    print('Ваш знак зодиака: Дева')\n",
    "elif (date >= 23 and month == 9) or (date <= 22 and month == 10):\n",
    "    print('Ваш знак зодиака: Весы')\n",
    "elif (date >= 23 and month == 10) or (date <= 21 and month == 11):\n",
    "    print('Ваш знак зодиака: Скорпион')\n",
    "elif (date >= 22 and month == 11) or (date <= 20 and month == 12):\n",
    "    print('Ваш знак зодиака: Стрелец')\n",
    "elif (date >= 21 and month == 12) or (date <= 19 and month == 1):\n",
    "    print('Ваш знак зодиака: Козерог')\n",
    "elif (date >= 20 and month == 1) or (date <= 19 and month == 2):\n",
    "    print('Ваш знак зодиака: Водолей')\n",
    "elif (date >= 20 and month == 2) or (date <= 20 and month == 3):\n",
    "    print('Ваш знак зодиака: Рыбы')"
   ]
  },
  {
   "cell_type": "markdown",
   "id": "0dafcb93",
   "metadata": {},
   "source": [
    "# Задание 4"
   ]
  },
  {
   "cell_type": "code",
   "execution_count": null,
   "id": "21d1c7f7",
   "metadata": {},
   "outputs": [],
   "source": [
    "wight = int(input(\"Введите ширину коробки:\"))\n",
    "lenght = int(input(\"Введите длину коробки:\"))\n",
    "height = int(input(\"Введите высоту коробки:\"))\n",
    "if wight < 15 and lenght < 15 and height < 15:\n",
    "    print('Коробка №1')\n",
    "elif (wight > 15 and lenght > 15 and height > 15) and (wight < 50 and lenght < 50 and height < 50):\n",
    "    print('Коробка №2')\n",
    "elif lenght > 200:\n",
    "    print('Упаковка для лыж')\n",
    "else:\n",
    "    print('Стандартная коробка №3')"
   ]
  }
 ],
 "metadata": {
  "kernelspec": {
   "display_name": "Python 3",
   "language": "python",
   "name": "python3"
  },
  "language_info": {
   "codemirror_mode": {
    "name": "ipython",
    "version": 3
   },
   "file_extension": ".py",
   "mimetype": "text/x-python",
   "name": "python",
   "nbconvert_exporter": "python",
   "pygments_lexer": "ipython3",
   "version": "3.8.8"
  }
 },
 "nbformat": 4,
 "nbformat_minor": 5
}
